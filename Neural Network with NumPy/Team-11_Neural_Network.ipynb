{
 "cells": [
  {
   "cell_type": "markdown",
   "metadata": {},
   "source": [
    "<hr style=\"height:.9px;border:none;color:#333;background-color:#333;\" />\n",
    "<hr style=\"height:.9px;border:none;color:#333;background-color:#333;\" />\n",
    "<br><br><br><br><br>\n",
    "<h1>Neural Network with NumPy: Fashion-MNIST </h1>\n",
    "\n",
    "> _by Team 11: Alexey Yushkin, Jack Daoud, Tetsuya Mano_\n",
    ">\n",
    "> _May 2<sup>nd</sup>, 2021_\n",
    "\n",
    "\n",
    "<br><br><br><br>\n",
    "<hr style=\"height:.9px;border:none;color:#333;background-color:#333;\" />\n",
    "<hr style=\"height:.9px;border:none;color:#333;background-color:#333;\" />\n",
    "<br><br>\n",
    "\n",
    "**This notebook is a submission to the Neural Network Hackathon organized by the Hult Data Analytics club & Marcus Rabe (Apr 30th - May 2nd, 2021)**\n",
    "\n",
    "- Data used is the Fashion MNIST found <a href='https://nnfs.io/datasets/fashion_mnist_images.zip'> here</a>.\n",
    "- Model used is a Convolutional Neural Network built using the Numpy library\n",
    "\n",
    "<br>\n",
    "\n",
    "# 1. Setup\n",
    "\n",
    "## 1.1 Packages"
   ]
  },
  {
   "cell_type": "code",
   "execution_count": 1,
   "metadata": {
    "ExecuteTime": {
     "end_time": "2021-05-02T19:12:13.589756Z",
     "start_time": "2021-05-02T19:12:12.733493Z"
    },
    "code_folding": []
   },
   "outputs": [],
   "source": [
    "# Packages\n",
    "\n",
    "import cv2                      # Computer vision library\n",
    "import os                       # Operating system library\n",
    "import urllib.request           # URL fetching library\n",
    "import urllib \n",
    "import numpy as np              # Computational library\n",
    "import pandas as pd             # Data analysis library\n",
    "import time                     # Time library\n",
    "import matplotlib.pyplot as plt # Visualization library\n",
    "import seaborn as sns\n",
    "from zipfile import ZipFile     # Zipfile library\n",
    "from tqdm import tqdm           # Progress bar library\n",
    "\n",
    "# Instantiate script start time\n",
    "start_time = time.time()"
   ]
  },
  {
   "cell_type": "markdown",
   "metadata": {},
   "source": [
    "## 1.2 Functions"
   ]
  },
  {
   "cell_type": "code",
   "execution_count": 2,
   "metadata": {
    "ExecuteTime": {
     "end_time": "2021-05-02T19:12:13.597459Z",
     "start_time": "2021-05-02T19:12:13.591413Z"
    },
    "code_folding": []
   },
   "outputs": [],
   "source": [
    "# Functions\n",
    "\n",
    "def download_minist_dataset():\n",
    "    \"\"\"\n",
    "    Downloads and unzips the mnist dataset\n",
    "    \"\"\"\n",
    "    URL = 'https://nnfs.io/datasets/fashion_mnist_images.zip'\n",
    "    FILE = 'fashion_mnist_images.zip'\n",
    "    FOLDER = 'fashion_mnist_images'\n",
    "    if not os.path.isfile(FILE):\n",
    "        print(f'Downloading {URL} and saving as {FILE}...')\n",
    "        urllib.request.urlretrieve(URL, FILE)\n",
    "    print('Unzipping images...')\n",
    "    with ZipFile(FILE) as zip_images:\n",
    "        zip_images.extractall(FOLDER)\n",
    "    print('Done!')\n",
    "\n",
    "def load_mnist_dataset(dataset, path):\n",
    "    \"\"\"\n",
    "    Loads the mnist dataset\n",
    "    \"\"\"\n",
    "    # Scan all the directories and create a list of labels\n",
    "    labels = os.listdir(os.path.join(path, dataset))\n",
    "    # Create lists for samples and labels\n",
    "    X = []\n",
    "    y = []\n",
    "    # For each label folder\n",
    "    for label in labels:\n",
    "        # And for each image in given folder\n",
    "        for file in os.listdir(os.path.join(path, dataset, label)):\n",
    "            # Read the image\n",
    "            image = cv2.imread(os.path.join(\n",
    "                path, dataset, label, file), cv2.IMREAD_UNCHANGED)\n",
    "            # And append it and a label to the lists\n",
    "            X.append(image)\n",
    "            y.append(label)\n",
    "    # Convert the data to proper numpy arrays and return\n",
    "    return np.array(X), np.array(y).astype('uint8')\n",
    "\n",
    "def create_data_mnist(path): \n",
    "    \"\"\"\n",
    "    Creates the mnist dataset\n",
    "    \"\"\"\n",
    "    # Load both sets separately\n",
    "    X, y = load_mnist_dataset('train', path)\n",
    "    X_test, y_test = load_mnist_dataset('test', path)\n",
    "    # And return all the data\n",
    "    return X, y, X_test, y_test\n",
    "\n",
    "def ReLU(x):    \n",
    "    \"\"\"\n",
    "    The rectified linear unit function\n",
    "    \"\"\"\n",
    "    return np.maximum(0, x)\n",
    "\n",
    "def normalize_array(array):\n",
    "    \"\"\"\n",
    "    Normalize an array\n",
    "    \"\"\"\n",
    "    normalized_array = array / np.linalg.norm(array)\n",
    "    return normalized_array"
   ]
  },
  {
   "cell_type": "markdown",
   "metadata": {},
   "source": [
    "## 1.4 Classes"
   ]
  },
  {
   "cell_type": "code",
   "execution_count": 3,
   "metadata": {
    "ExecuteTime": {
     "end_time": "2021-05-02T19:12:13.612220Z",
     "start_time": "2021-05-02T19:12:13.599364Z"
    },
    "code_folding": []
   },
   "outputs": [],
   "source": [
    "# Classes\n",
    "\n",
    "class TwoLayerNet(object):    \n",
    "    \"\"\"\n",
    "    A two-layer fully-connected neural network. The net has an input dimension\n",
    "    of N, a hidden layer dimension of H (i.e. number of neurons), and performs\n",
    "    classification over C classes.\n",
    "    \n",
    "    We train the network with a softmax loss function and L2 regularization on\n",
    "    the weight matrices. The network uses a ReLU nonlinearity after the first \n",
    "    fully connected layer.\n",
    "\n",
    "    In other words, the network has the following architecture:\n",
    "\n",
    "    Input -> fully connected layer - ReLU -> fully connected layer - softmax\n",
    "\n",
    "    The outputs of the second fully-connected layer are the scores for each class.\n",
    "    \"\"\"\n",
    "\n",
    "    def __init__(self, input_size, hidden_size, output_size, std=1e-4): \n",
    "        \"\"\"\n",
    "        Initialize the model. Weights are initialized to small random values and\n",
    "        biases are initialized to zero. Weights and biases are stored in the\n",
    "        variable self.params, which is a dictionary with the following keys:\n",
    "\n",
    "        W1: First layer weights; has shape (D, H)This \n",
    "        b1: First layer biases; has shape (H,)\n",
    "        W2: Second layer weights; has shape (H, C)\n",
    "        b2: Second layer biases; has shape (C,)\n",
    "\n",
    "        Inputs:\n",
    "        - input_size: The dimension D of the input data.\n",
    "        - hidden_size: The number of neurons H in the hidden layer.\n",
    "        - output_size: The number of classes C.\n",
    "        \"\"\"\n",
    "        self.params = {}    \n",
    "        self.params['W1'] = std * np.random.randn(input_size, hidden_size)\n",
    "        self.params['b1'] = np.zeros((1, hidden_size))\n",
    "        self.params['W2'] = std * np.random.randn(hidden_size, output_size) \n",
    "        self.params['b2'] = np.zeros((1, output_size))\n",
    "\n",
    "    def loss(self, X, y=None, reg=0.0):\n",
    "        \"\"\"\n",
    "        Compute the loss and gradients for a two layer fully connected neural\n",
    "        network.\n",
    "\n",
    "        Inputs:\n",
    "        - X: Input data of shape (N, D). Each X[i] is a training sample.\n",
    "        - y: Vector of training labels. y[i] is the label for X[i], and each y[i] is\n",
    "          an integer in the range 0 <= y[i] < C. This parameter is optional; if it\n",
    "          is not passed then we only return scores, and if it is passed then we\n",
    "          instead return the loss and gradients.\n",
    "        - reg: Regularization strength.\n",
    "\n",
    "        Returns:\n",
    "        If y is None, return a matrix scores of shape (N, C) where scores[i, c] is\n",
    "        the score for class c on input X[i].\n",
    "\n",
    "        If y is not None, instead return a tuple of:\n",
    "        - loss: Loss (data loss and regularization loss) for this batch of training\n",
    "          samples.\n",
    "        - grads: Dictionary mapping parameter names to gradients of those parameters\n",
    "          with respect to the loss function; has the same keys as self.params.\n",
    "        \"\"\"\n",
    "        # Unpack variables from the params dictionary\n",
    "        W1, b1 = self.params['W1'], self.params['b1']\n",
    "        W2, b2 = self.params['W2'], self.params['b2']\n",
    "        N, D = X.shape\n",
    "        \n",
    "        # Compute the forward pass\n",
    "        scores = None\n",
    "        h1 = ReLU(np.dot(X, W1) + b1)  \n",
    "        out = np.dot(h1, W2) + b2          \n",
    "        scores = out\n",
    "        \n",
    "        # If the targets are not given then jump out, we're done\n",
    "        if y is None:   \n",
    "            return scores\n",
    "        \n",
    "        # Compute the loss\n",
    "        scores_max = np.max(scores, axis=1, keepdims=True)    \n",
    "        exp_scores = np.exp(scores - scores_max)              \n",
    "        probs = exp_scores / np.sum(exp_scores, axis=1, keepdims=True)    \n",
    "        correct_logprobs = -np.log(probs[range(N), y])        \n",
    "        data_loss = np.sum(correct_logprobs) / N\n",
    "        reg_loss = 0.5 * reg * np.sum(W1 * W1) + 0.5 * reg * np.sum(W2 * W2)\n",
    "        loss = data_loss + reg_loss\n",
    "        \n",
    "        # Backward pass: compute gradients\n",
    "        grads = {}\n",
    "        dscores = probs                                 \n",
    "        dscores[range(N), y] -= 1\n",
    "        dscores /= N\n",
    "        dW2 = np.dot(h1.T, dscores)                     \n",
    "        db2 = np.sum(dscores, axis=0, keepdims=True)    \n",
    "        dh1 = np.dot(dscores, W2.T)                     \n",
    "        dh1[h1 <= 0] = 0\n",
    "        dW1 = np.dot(X.T, dh1)                          \n",
    "        db1 = np.sum(dh1, axis=0, keepdims=True)\n",
    "        dW2 += reg * W2\n",
    "        dW1 += reg * W1\n",
    "        \n",
    "        grads['W1'] = dW1\n",
    "        grads['b1'] = db1\n",
    "        grads['W2'] = dW2\n",
    "        grads['b2'] = db2\n",
    "\n",
    "        return loss, grads\n",
    "\n",
    "    def train(self, X, y, X_test, y_test, learning_rate=1e-3, \n",
    "              learning_rate_decay=0.95, reg=1e-5, mu=0.9, num_epochs=10, \n",
    "              mu_increase=1.0, batch_size=200, verbose=False):   \n",
    "        \"\"\"\n",
    "        Train this neural network using stochastic gradient descent.\n",
    "\n",
    "        Inputs:\n",
    "        - X: A numpy array of shape (N, D) giving training data.\n",
    "        - y: A numpy array f shape (N,) giving training labels; y[i] = c means that\n",
    "          X[i] has label c, where 0 <= c < C.\n",
    "        - X_test: A numpy array of shape (N_test, D) giving test data.\n",
    "        - y_test: A numpy array of shape (N_test,) giving test labels.\n",
    "        - learning_rate: Scalar giving learning rate for optimization.\n",
    "        - learning_rate_decay: Scalar giving factor used to decay the learning rate\n",
    "          after each epoch.\n",
    "        - reg: Scalar giving regularization strength.\n",
    "        - num_iters: Number of steps to take when optimizing.\n",
    "        - batch_size: Number of training examples to use per step.\n",
    "        - verbose: boolean; if true print progress during optimization.\n",
    "        \"\"\"\n",
    "        num_train = X.shape[0]\n",
    "        iterations_per_epoch = max(int(num_train / batch_size), 1)\n",
    "        \n",
    "        # Use SGD to optimize the parameters in self.model\n",
    "        v_W2, v_b2 = 0.0, 0.0\n",
    "        v_W1, v_b1 = 0.0, 0.0\n",
    "        loss_history = []\n",
    "        train_acc_history = []\n",
    "        test_acc_history = []\n",
    "\n",
    "        for it in tqdm(range(1, num_epochs * iterations_per_epoch + 1)):\n",
    "            X_batch = None   \n",
    "            y_batch = None \n",
    "            \n",
    "            # Create a random minibatch of training data and labels\n",
    "            sample_index = np.random.choice(num_train, batch_size, replace=True)   \n",
    "            X_batch = X[sample_index, :]          \n",
    "            y_batch = y[sample_index]             \n",
    "            \n",
    "            # Compute loss and gradients using the current minibatch\n",
    "            loss, grads = self.loss(X_batch, y=y_batch, reg=reg) \n",
    "            loss_history.append(loss)\n",
    "            \n",
    "            # Use the gradients to update the parameters of the network\n",
    "            v_W2 = mu * v_W2 - learning_rate * grads['W2']    \n",
    "            self.params['W2'] += v_W2   \n",
    "            v_b2 = mu * v_b2 - learning_rate * grads['b2']    \n",
    "            self.params['b2'] += v_b2   \n",
    "            v_W1 = mu * v_W1 - learning_rate * grads['W1']    \n",
    "            self.params['W1'] += v_W1   \n",
    "            v_b1 = mu * v_b1 - learning_rate * grads['b1']  \n",
    "            self.params['b1'] += v_b1\n",
    "            \n",
    "            if verbose and it % iterations_per_epoch == 0:    \n",
    "            # Every epoch, check train and test accuracy and decay learning rate.\n",
    "                epoch = it / iterations_per_epoch    \n",
    "                train_acc = (self.predict(X_batch) == y_batch).mean()    \n",
    "                test_acc = (self.predict(X_test) == y_test).mean()    \n",
    "                train_acc_history.append(train_acc)    \n",
    "                test_acc_history.append(test_acc)    \n",
    "#                 print(f\"\"\"\n",
    "# Epoch {int(epoch)}/{num_epochs} -> Loss: {round(loss,4)}, Train Accuracy: {round(train_acc,4)}, Test Accuracy: {test_acc}\n",
    "# \"\"\")\n",
    "                \n",
    "                # Decay learning rate\n",
    "                learning_rate *= learning_rate_decay    \n",
    "                mu *= mu_increase\n",
    "        \n",
    "        # Save results \n",
    "        return {   \n",
    "            'loss_history': loss_history,   \n",
    "            'train_acc_history': train_acc_history,   \n",
    "            'test_acc_history': test_acc_history,\n",
    "        }\n",
    "\n",
    "    def predict(self, X):    \n",
    "        \"\"\"\n",
    "        Use the trained weights of this two-layer network to predict labels for\n",
    "        data points. For each data point we predict scores for each of the C\n",
    "        classes, and assign each data point to the class with the highest score.\n",
    "\n",
    "        Inputs:\n",
    "        - X: A numpy array of shape (N, D) giving N D-dimensional data points to\n",
    "          classify.\n",
    "\n",
    "        Returns:\n",
    "        - y_pred: A numpy array of shape (N,) giving predicted labels for each of\n",
    "        the elements of X. For all i, y_pred[i] = c means that X[i] is predicted\n",
    "        to have class c, where 0 <= c < C.\n",
    "        \"\"\"\n",
    "        y_pred = None    \n",
    "        h1 = ReLU(np.dot(X, self.params['W1']) + self.params['b1']) \n",
    "        scores = np.dot(h1, self.params['W2']) + self.params['b2']    \n",
    "        y_pred = np.argmax(scores, axis=1)    \n",
    "\n",
    "        return y_pred"
   ]
  },
  {
   "cell_type": "markdown",
   "metadata": {},
   "source": [
    "# 2. Analysis\n",
    "\n",
    "## 2.1 Data Exploration\n",
    "\n",
    "- Each image is 28 pixels in height and 28 pixels in width, for a total of 784 pixels in total.\n",
    "- Each pixel has a single pixel-value associated with it, indicating the lightness or darkness of that pixel, with higher numbers meaning darker. This pixel-value is an integer between 0 and 255.\n",
    "- Each class has the same number of observations (6,000 per class) and therefore there is no class imbalance."
   ]
  },
  {
   "cell_type": "code",
   "execution_count": 4,
   "metadata": {
    "ExecuteTime": {
     "end_time": "2021-05-02T19:12:18.267629Z",
     "start_time": "2021-05-02T19:12:13.613788Z"
    },
    "code_folding": []
   },
   "outputs": [
    {
     "name": "stdout",
     "output_type": "stream",
     "text": [
      "\n",
      "Train Dimensions: \n",
      "-----------------\n",
      "- Observations: 60000\n",
      "- Pixels per picture: (28, 28) or 784 in total\n",
      "- Pixel value range: 0 - 255\n",
      "\n",
      "\n",
      "Test Dimensions:\n",
      "-----------------\n",
      "- Observations: 10000\n",
      "\n"
     ]
    }
   ],
   "source": [
    "# Import Data & Explore\n",
    "\n",
    "# Download data (uncomment if data is not found in directory)\n",
    "#download_minist_dataset()\n",
    "\n",
    "# Split data into training & testing\n",
    "X_train, y_train, X_test, y_test = create_data_mnist('fashion_mnist_images')\n",
    "\n",
    "# Organize train data into a DataFrame for visualization / manipulation\n",
    "df_train = pd.DataFrame({'pixels':list(X_train.reshape(60000, 784)), \n",
    "                         'labels':y_train}, columns=['pixels', 'labels'])\n",
    "\n",
    "# Print dimensions of data\n",
    "print(f\"\"\"\n",
    "Train Dimensions: \n",
    "-----------------\n",
    "- Observations: {X_train.shape[0]}\n",
    "- Pixels per picture: ({X_train.shape[1]}, {X_train.shape[2]}) or {X_train.shape[1]*X_train.shape[2]} in total\n",
    "- Pixel value range: {np.min(X_train[0])} - {np.max(X_train[0])}\n",
    "\n",
    "\n",
    "Test Dimensions:\n",
    "-----------------\n",
    "- Observations: {X_test.shape[0]}\n",
    "\"\"\")"
   ]
  },
  {
   "cell_type": "code",
   "execution_count": 5,
   "metadata": {
    "ExecuteTime": {
     "end_time": "2021-05-02T19:12:18.602283Z",
     "start_time": "2021-05-02T19:12:18.269005Z"
    },
    "code_folding": []
   },
   "outputs": [
    {
     "data": {
      "image/png": "[encoded data removed]",
      "text/plain": [
       "<Figure size 1080x1080 with 10 Axes>"
      ]
     },
     "metadata": {},
     "output_type": "display_data"
    }
   ],
   "source": [
    "# Display an example of each fashion item (i.e. each class)\n",
    "\n",
    "# Create new dataframe of 1 item from each class\n",
    "fashion_items = pd.DataFrame()\n",
    "\n",
    "# Loop over each fashion item by index (every 6000 is a new item)\n",
    "for x in np.arange(1, 60000, 6000):\n",
    "    fashion_items = fashion_items.append(df_train.iloc[x,:])\n",
    "    \n",
    "# Create a list of item/class names\n",
    "class_names = [\n",
    "    'T-shirt', \n",
    "    'Trouser', \n",
    "    'Pullover', \n",
    "    'Dress', \n",
    "    'Coat', \n",
    "    'Sandal', \n",
    "    'Shirt', \n",
    "    'Sneaker',\n",
    "    'Bag', \n",
    "    'Ankle boot']\n",
    "    \n",
    "#######################\n",
    "# Plot all 10 classes #\n",
    "#######################\n",
    "\n",
    "# Set figure size\n",
    "plt.figure(figsize=(15, 15))\n",
    "\n",
    "# Loop over each fashion item / class\n",
    "for i in range(10):\n",
    "    \n",
    "    # Instantiate subplot dimensions and locations\n",
    "    plt.subplot(5, 5, i + 1)\n",
    "    plt.xticks([])                                         # Remove tickmarks\n",
    "    plt.yticks([])  \n",
    "    plt.grid(False)                                        # Remove grid\n",
    "    plt.imshow(fashion_items.iloc[i, 1].reshape((28,28)))  # Display picture\n",
    "    label_index = int(fashion_items.iloc[i, 0])            # Pull label index\n",
    "    plt.title(class_names[label_index])                    # Name each item\n",
    "\n",
    "plt.show()"
   ]
  },
  {
   "cell_type": "code",
   "execution_count": 6,
   "metadata": {
    "ExecuteTime": {
     "end_time": "2021-05-02T19:12:18.736079Z",
     "start_time": "2021-05-02T19:12:18.605167Z"
    },
    "code_folding": []
   },
   "outputs": [
    {
     "data": {
      "image/png": "[encoded data removed]",
      "text/plain": [
       "<Figure size 1080x576 with 1 Axes>"
      ]
     },
     "metadata": {
      "needs_background": "light"
     },
     "output_type": "display_data"
    }
   ],
   "source": [
    "# Check for any class imbalance\n",
    "\n",
    "# Set figure size\n",
    "fig, ax = plt.subplots(figsize=[15, 8])\n",
    "\n",
    "# Plot countplot for each class\n",
    "splot = sns.countplot(data=df_train.sort_values(by='labels', ascending=False),\n",
    "                    x='labels',\n",
    "                    orient='v',\n",
    "                    palette='mako')\n",
    "\n",
    "# Place count values on top of bars\n",
    "for p in splot.patches:\n",
    "    splot.annotate(format(p.get_height(), '.0f'),\n",
    "                   (p.get_x() + p.get_width() / 2., p.get_height()),\n",
    "                   ha='center',\n",
    "                   va='center',\n",
    "                   xytext=(0, 6),\n",
    "                   textcoords='offset points')\n",
    "\n",
    "# Labels and formatting\n",
    "plt.xlabel(xlabel='Fashion Item / Class')\n",
    "plt.xticks(rotation=30)\n",
    "splot.spines['right'].set_visible(False)\n",
    "splot.spines['top'].set_visible(False)\n",
    "splot.spines['left'].set_visible(False)\n",
    "splot.axes.yaxis.set_visible(False)"
   ]
  },
  {
   "cell_type": "markdown",
   "metadata": {},
   "source": [
    "## 2.2 Neural Network"
   ]
  },
  {
   "cell_type": "code",
   "execution_count": 7,
   "metadata": {
    "ExecuteTime": {
     "end_time": "2021-05-02T19:13:48.714598Z",
     "start_time": "2021-05-02T19:12:18.738484Z"
    }
   },
   "outputs": [
    {
     "name": "stderr",
     "output_type": "stream",
     "text": [
      "100%|██████████| 5670/5670 [01:29<00:00, 63.07it/s]"
     ]
    },
    {
     "name": "stdout",
     "output_type": "stream",
     "text": [
      "\n",
      "Test Accuracy: 0.8917\n",
      "\n",
      "Model Run Time: 90.0 seconds\n"
     ]
    },
    {
     "name": "stderr",
     "output_type": "stream",
     "text": [
      "\n"
     ]
    }
   ],
   "source": [
    "# Instantiate, Train, and Test NN Model\n",
    "\n",
    "# Set Random Seed\n",
    "np.random.seed(2305)\n",
    "\n",
    "# Reshape data to rows\n",
    "X_train = X_train.reshape(X_train.shape[0], -1)\n",
    "X_test = X_test.reshape(X_test.shape[0], -1)\n",
    "\n",
    "# Instantiate parameters for Neural Network\n",
    "input_size  = X_train.shape[1]\n",
    "num_classes = 10\n",
    "num_neurons = 304\n",
    "\n",
    "# Model Start time\n",
    "model_start_time = time.time()\n",
    "\n",
    "# Instantiate neural network\n",
    "net = TwoLayerNet(input_size, num_neurons, num_classes)\n",
    "\n",
    "# Train the network\n",
    "stats = net.train(X_train, y_train, X_test, y_test,\n",
    "                    num_epochs          = 70, \n",
    "                    batch_size          = 734, \n",
    "                    learning_rate       = 0.0008, \n",
    "                    learning_rate_decay = 0.98,\n",
    "                    reg                 = 0.1, \n",
    "                    verbose             = True)\n",
    "\n",
    "\n",
    "# Predict on the test data\n",
    "test_acc = (net.predict(X_test) == y_test).mean()\n",
    "\n",
    "\n",
    "# Model End time\n",
    "model_end_time = time.time()\n",
    "\n",
    "# Print Model parameters & accuracy\n",
    "print(f\"\"\"\n",
    "Test Accuracy: {test_acc}\n",
    "\n",
    "Model Run Time: {round(model_end_time - model_start_time, 0)} seconds\"\"\")"
   ]
  },
  {
   "cell_type": "markdown",
   "metadata": {},
   "source": [
    "# 3. Results"
   ]
  },
  {
   "cell_type": "code",
   "execution_count": 8,
   "metadata": {
    "ExecuteTime": {
     "end_time": "2021-05-02T19:13:49.057435Z",
     "start_time": "2021-05-02T19:13:48.716842Z"
    }
   },
   "outputs": [
    {
     "data": {
      "image/png": "[encoded data removed]",
      "text/plain": [
       "<Figure size 864x864 with 2 Axes>"
      ]
     },
     "metadata": {
      "needs_background": "light"
     },
     "output_type": "display_data"
    }
   ],
   "source": [
    "# Plot Neural Network model Results\n",
    "%matplotlib inline\n",
    "\n",
    "# Set figure size\n",
    "fig, ax = plt.subplots(figsize=[12, 12])\n",
    "plt.subplots_adjust(wspace =0, hspace =0.3) # Adjust spacing between subplots\n",
    "\n",
    "##########################\n",
    "# Plot the loss function #\n",
    "##########################\n",
    "\n",
    "# Subplot location\n",
    "plt.subplot(2, 1, 1)\n",
    "\n",
    "# Plot loss history\n",
    "plt.plot(stats['loss_history'], color='darkblue')\n",
    "\n",
    "# Labels & titles\n",
    "plt.title('Loss History', fontsize='x-large')\n",
    "plt.xlabel('Iteration', fontsize='large')\n",
    "plt.ylabel('Loss', fontsize='large')\n",
    "\n",
    "####################################\n",
    "# Plot the train / test accuracies #\n",
    "####################################\n",
    "\n",
    "# Subplot location\n",
    "plt.subplot(2, 1, 2)\n",
    "\n",
    "# Plot training accuracy\n",
    "plt.plot(stats['train_acc_history'], label = 'Train', color = 'darkblue',\n",
    "         linewidth = 2)\n",
    "\n",
    "# Plot testing accuracy\n",
    "plt.plot(stats['test_acc_history'], label = 'Test', color = 'darkgreen',\n",
    "         linewidth = 2)\n",
    "\n",
    "# Labels & titles\n",
    "plt.title('Classification Accuracy History', fontsize='x-large')\n",
    "plt.xlabel('Epoch', fontsize='large')\n",
    "plt.ylabel('Clasification Accuracy', fontsize = 'large')\n",
    "plt.axhline(y = test_acc, color = 'darkred', linewidth = 1)\n",
    "plt.text(x = 15, y = test_acc+0.001, s = f\"Test Accuracy: {test_acc}\",\n",
    "        fontsize = 'large', horizontalalignment = 'left')                \n",
    "plt.legend()\n",
    "\n",
    "# Show plot\n",
    "plt.show()"
   ]
  },
  {
   "cell_type": "code",
   "execution_count": 9,
   "metadata": {
    "ExecuteTime": {
     "end_time": "2021-05-02T19:13:49.062668Z",
     "start_time": "2021-05-02T19:13:49.059241Z"
    }
   },
   "outputs": [
    {
     "name": "stdout",
     "output_type": "stream",
     "text": [
      "Script running time is 95.0 s\n"
     ]
    }
   ],
   "source": [
    "# Instantiate script end time\n",
    "end_time = time.time()\n",
    "\n",
    "# Print total script run time\n",
    "print(f\"Script running time is {round(end_time - start_time, 0)} s\")"
   ]
  },
  {
   "cell_type": "markdown",
   "metadata": {},
   "source": [
    "# Appendix\n",
    "\n",
    "## Articles\n",
    "\n",
    "> Adhokshaja, P. (May, 2020). <em><a href=https://medium.com/swlh/estimating-the-fashion-mnist-using-simple-neural-network-fa867918c227>Estimating the Fashion MNIST using simple neural network</a></em>. Start it up.\n",
    ">\n",
    "> Mendels, G. (August, 2019). <em><a href=https://towardsdatascience.com/selecting-the-right-weight-initialization-for-your-deep-neural-network-8ccf8dfcfc4c>Selecting the right weight initialization for your deep neural network</a></em>. Towards Data Science.\n",
    "> \n",
    "> Morrow, C. (November, 2020). <em><a href=https://towardsdatascience.com/normalization-techniques-in-python-using-numpy-b998aa81d754>Normalization Techniques in Python using NumP</a></em>. Towards Data Science.\n",
    ">\n",
    "> Skalski, P. (October, 2018). <em><a href=https://towardsdatascience.com/lets-code-a-neural-network-in-plain-numpy-ae7e74410795>Let's code a Neural Network in plain NumPy</a></em>. Towards Data Science.\n",
    ">\n",
    "> Skalski, P. (August, 2018). <em><a href=https://towardsdatascience.com/https-medium-com-piotr-skalski92-deep-dive-into-deep-networks-math-17660bc376ba>Deep Dive into Math Behind Deep Networks</a></em>. Towards Data Science.  \n",
    "> \n",
    "> Sharma, S. (September, 2017). <em><a href=https://towardsdatascience.com/activation-functions-neural-networks-1cbd9f8d91d6>Activation Functions in Neural Networks</a></em>. Towards Data Science.\n",
    ">\n",
    "> Sharma, S. (September, 2017). <em><a href=https://towardsdatascience.com/epoch-vs-iterations-vs-batch-size-4dfb9c7ce9c9>Epoch vs Batch Size vs Iterations</a></em>. Towards Data Science.\n",
    ">\n",
    "> Sethi, V. (December, 2019). <em><a href=https://towardsdatascience.com/types-of-neural-network-and-what-each-one-does-explained-d9b4c0ed63a1>Types of Neural Networks (and what each one does!) Explained</a></em>. Towards Data Science.\n",
    "\n",
    "## Code\n",
    "\n",
    "> <a href=https://www.kaggle.com/soham1024/basic-neural-network-from-scratch-in-python>Basic Neural Network from Scratch in Python</a>. Kaggle\n",
    ">\n",
    "> <a href=https://www.kaggle.com/accepteddoge/fashion-mnist-with-numpy-neural-networks>Fashion-MNIST with Numpy Neural Networks</a>. Kaggle\n",
    "> \n",
    "> <a href=https://www.kaggle.com/pavansanagapati/a-simple-cnn-model-beginner-guide>A Simple CNN Model Beginner Guide</a>. Kaggle\n",
    ">\n",
    "> <a href=https://www.kaggle.com/scaomath/simple-mnist-numpy-from-scratch>Simple MNIST numpy from scratch</a>. Kaggle\n",
    ">\n",
    "> <a href=https://mlnotebook.github.io/post/nn-in-python/>A Simple Neural Network - With Numpy in Python</a>. Github."
   ]
  }
 ],
 "metadata": {
  "kernelspec": {
   "display_name": "Python 3",
   "language": "python",
   "name": "python3"
  },
  "language_info": {
   "codemirror_mode": {
    "name": "ipython",
    "version": 3
   },
   "file_extension": ".py",
   "mimetype": "text/x-python",
   "name": "python",
   "nbconvert_exporter": "python",
   "pygments_lexer": "ipython3",
   "version": "3.8.8"
  },
  "toc": {
   "base_numbering": 1,
   "nav_menu": {},
   "number_sections": false,
   "sideBar": true,
   "skip_h1_title": false,
   "title_cell": "Table of Contents",
   "title_sidebar": "Contents",
   "toc_cell": false,
   "toc_position": {
    "height": "calc(100% - 180px)",
    "left": "10px",
    "top": "150px",
    "width": "165px"
   },
   "toc_section_display": true,
   "toc_window_display": true
  },
  "varInspector": {
   "cols": {
    "lenName": 16,
    "lenType": 16,
    "lenVar": 40
   },
   "kernels_config": {
    "python": {
     "delete_cmd_postfix": "",
     "delete_cmd_prefix": "del ",
     "library": "var_list.py",
     "varRefreshCmd": "print(var_dic_list())"
    },
    "r": {
     "delete_cmd_postfix": ") ",
     "delete_cmd_prefix": "rm(",
     "library": "var_list.r",
     "varRefreshCmd": "cat(var_dic_list()) "
    }
   },
   "types_to_exclude": [
    "module",
    "function",
    "builtin_function_or_method",
    "instance",
    "_Feature"
   ],
   "window_display": false
  }
 },
 "nbformat": 4,
 "nbformat_minor": 4
}
